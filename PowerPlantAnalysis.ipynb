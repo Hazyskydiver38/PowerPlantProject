{
 "cells": [
  {
   "cell_type": "markdown",
   "id": "a37336f3-014c-4076-a315-e56ccee9133e",
   "metadata": {},
   "source": [
    "# Power Plant Data Analysis"
   ]
  },
  {
   "cell_type": "code",
   "execution_count": 1,
   "id": "0325321b-db75-4e01-aca4-ed7590e89173",
   "metadata": {},
   "outputs": [],
   "source": [
    "import ee"
   ]
  },
  {
   "cell_type": "code",
   "execution_count": 2,
   "id": "2f6054aa-39d2-46cd-a31c-063f96865c48",
   "metadata": {},
   "outputs": [],
   "source": [
    "import geemap"
   ]
  },
  {
   "cell_type": "code",
   "execution_count": 3,
   "id": "f7433d38-02c2-44b4-8e91-b1ff5c807dca",
   "metadata": {},
   "outputs": [],
   "source": [
    "ee.Initialize()"
   ]
  },
  {
   "cell_type": "markdown",
   "id": "49fc2914-a6e4-4521-b68b-a926e400abd8",
   "metadata": {},
   "source": [
    "## Create Map object"
   ]
  },
  {
   "cell_type": "code",
   "execution_count": 4,
   "id": "5b96cdc5-afd0-491d-b7d8-47470a0ac05e",
   "metadata": {},
   "outputs": [],
   "source": [
    "Map = geemap.Map(center=[40,-100],zoom=5)\n",
    "# If this is your first time running the code then you will be prompted to authenticate with Google Cloud "
   ]
  },
  {
   "cell_type": "code",
   "execution_count": 5,
   "id": "5b7f1a89-5a1e-4748-94ba-b53b708340c9",
   "metadata": {},
   "outputs": [],
   "source": [
    "Map.add_basemap(\"FWS NWI Wetlands\")"
   ]
  },
  {
   "cell_type": "markdown",
   "id": "dd46d7fc-c5f9-404c-bee6-d9b501089360",
   "metadata": {},
   "source": [
    "### Importing Data"
   ]
  },
  {
   "cell_type": "code",
   "execution_count": 6,
   "id": "27be502a-5e04-4b6d-9b60-22ee63445edc",
   "metadata": {},
   "outputs": [],
   "source": [
    "data = ee.FeatureCollection(\"WRI/GPPD/power_plants\");"
   ]
  },
  {
   "cell_type": "markdown",
   "id": "d23e72cd-e10d-4240-a922-154430279297",
   "metadata": {},
   "source": [
    "### Filtering for U.S data only"
   ]
  },
  {
   "cell_type": "code",
   "execution_count": 7,
   "id": "fcad9235-4fa5-4208-9bf8-2baa89c97ad1",
   "metadata": {},
   "outputs": [],
   "source": [
    "usa_data = data.filter(ee.Filter.eq('country', 'USA'));"
   ]
  },
  {
   "cell_type": "markdown",
   "id": "ea3e302e-144c-4a0c-a533-afb2683b3e35",
   "metadata": {},
   "source": [
    "### Create Energy Source "
   ]
  },
  {
   "cell_type": "code",
   "execution_count": 8,
   "id": "e26f7cce-3f0c-4b00-9e98-7667f13c619f",
   "metadata": {},
   "outputs": [],
   "source": [
    "# energy_source = data.filter(ee.Filter.eq('"
   ]
  },
  {
   "cell_type": "markdown",
   "id": "8ed3daf9-bb6a-4161-9d6c-e0b51ecf737e",
   "metadata": {},
   "source": [
    "### Displaying Map"
   ]
  },
  {
   "cell_type": "code",
   "execution_count": 9,
   "id": "d7d469bb-dd17-4469-b381-f17900d9340a",
   "metadata": {},
   "outputs": [
    {
     "data": {
      "application/vnd.jupyter.widget-view+json": {
       "model_id": "240307339d2c4549b044fea1b0af731a",
       "version_major": 2,
       "version_minor": 0
      },
      "text/plain": [
       "Map(center=[40.513365808232265, -94.763554882789], controls=(WidgetControl(options=['position', 'transparent_b…"
      ]
     },
     "metadata": {},
     "output_type": "display_data"
    }
   ],
   "source": [
    "Map.addLayer(usa_data, {}, 'USA Power Plants')\n",
    "Map.centerObject(usa_data, 4);\n",
    "Map"
   ]
  },
  {
   "cell_type": "code",
   "execution_count": null,
   "id": "08aa67a2-49ed-46ed-8d64-164a16299c99",
   "metadata": {},
   "outputs": [],
   "source": []
  }
 ],
 "metadata": {
  "kernelspec": {
   "display_name": "ee",
   "language": "python",
   "name": "python3"
  },
  "language_info": {
   "codemirror_mode": {
    "name": "ipython",
    "version": 3
   },
   "file_extension": ".py",
   "mimetype": "text/x-python",
   "name": "python",
   "nbconvert_exporter": "python",
   "pygments_lexer": "ipython3",
   "version": "3.11.3"
  },
  "vscode": {
   "interpreter": {
    "hash": "2d7426889c5d42279857204591f4315375ce68b6291af0cf8590d643c809b0d7"
   }
  }
 },
 "nbformat": 4,
 "nbformat_minor": 5
}
